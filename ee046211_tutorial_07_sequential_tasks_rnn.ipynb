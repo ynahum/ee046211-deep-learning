{
  "cells": [
    {
      "cell_type": "markdown",
      "metadata": {
        "id": "Nay-urmb14cC"
      },
      "source": [
        "# <img src=\"https://github.com/ynahum/ee046211-deep-learning/blob/main/assets/course-icon.png?raw=1\" style=\"height:50px;display:inline\"> EE 046211 - Technion - Deep Learning\n",
        "---\n",
        "\n",
        "#### Tal Daniel\n",
        "\n",
        "## Tutorial 07 - Sequential Tasks - Recurrent Neural Networks\n",
        "---\n",
        "<img src=\"https://github.com/ynahum/ee046211-deep-learning/blob/main/assets/rnn_1.jpg?raw=1\" style=\"height:200px\">"
      ]
    },
    {
      "cell_type": "markdown",
      "metadata": {
        "id": "wHtmFzbF14cW"
      },
      "source": [
        "### <img src=\"https://img.icons8.com/bubbles/50/000000/checklist.png\" style=\"height:50px;display:inline\"> Agenda\n",
        "---\n",
        "* [Natural Language Processing and Sequences](#-Natural-Language-Processing-and-Sequences)\n",
        "* [Text Preprocessing](#-Text-Preprocessing)\n",
        "* [Evaluation in NLP - Perplexity and BLEU](#-Evaluation-in-NLP---Perplexity-and-BLEU)\n",
        "* [Recurrent Neural Networks (RNNs)](#-Recurrent-Neural-Networks-(RNNs))\n",
        "* [Backpropagation Through Time (BPTT)](#-Backpropagation-Through-Time-(BPTT))\n",
        "* [Long Term Short Memory (LSTM)](#-Long-Term-Short-Memory-(LSTM))\n",
        "* [Gated Recurrent Unit (GRU)](#-Gated-Recurrent-Unit-(GRU))\n",
        "* [Attention](#-Attention)\n",
        "* [The Transformer](#-The-Transformer)\n",
        "* [Pretrained Models - BERT and GPT](#-Pretrained-Models---BERT-and-GPT)\n",
        "* [Recommended Videos](#-Recommended-Videos)\n",
        "* [Credits](#-Credits)"
      ]
    },
    {
      "cell_type": "code",
      "execution_count": 33,
      "metadata": {
        "id": "R9ejiBAF14cg"
      },
      "outputs": [],
      "source": [
        "# imports for the tutorial\n",
        "import numpy as np\n",
        "import matplotlib.pyplot as plt\n",
        "import time\n",
        "import os\n",
        "\n",
        "# pytorch\n",
        "import torch\n",
        "import torch.nn as nn\n",
        "import torchtext\n",
        "import torchtext.legacy.data as data\n",
        "import torchtext.legacy.datasets as datasets\n",
        "import torch.nn.functional as f"
      ]
    },
    {
      "cell_type": "markdown",
      "metadata": {
        "id": "YIlXDmge14cl"
      },
      "source": [
        "## <img src=\"https://img.icons8.com/nolan/64/language.png\" style=\"height:50px;display:inline\"> Natural Language Processing and Sequences\n",
        "---\n",
        "* So far we have dealt with tabular data and images, but what about text or sequences?\n",
        "* Sequence modeling is the field of modeling sequences, e.g., text sentences, videos, stocks rate, trajectories in reinforcement learning or autonomous driving, wheather forecast and etc...\n",
        "* Unlike our previous assumption that the data we have is i.i.d., this is not usually the case in sequences (e.g., if you randomly change the words in a sentence, it would be very hard to understand its meaning).\n",
        "* We will focus on text data in the field of natural language processing (NLP)."
      ]
    },
    {
      "cell_type": "markdown",
      "metadata": {
        "id": "1gyNCSo614cn"
      },
      "source": [
        "#### Language Models\n",
        "---\n",
        "* Language models assign a probability to a text: $p(x_0, \\cdots, x_n)$\n",
        "* The most popular method is to factorize distribution using the basic probability principles and the Markovian assumption: $$p(x_0, \\cdots, x_n) = p(x_0)p(x_1|x_0)\\cdots p(x_n|x_{n-1})$$\n",
        "* However, this approach makes many assumptions that are unecessarily true (e.g. Markovian assumption -  dependency only on the previous word and not the entire history). "
      ]
    },
    {
      "cell_type": "markdown",
      "metadata": {
        "id": "XiCPDl0t14co"
      },
      "source": [
        "<img src=\"https://github.com/ynahum/ee046211-deep-learning/blob/main/assets/lang_model.gif?raw=1\" style=\"height:250px\">\n",
        "\n",
        "* <a href=\"https://medium.com/perceptronai/recurrent-neural-network-an-introduction-for-beginners-1c13a541c906\">Image Source</a>"
      ]
    },
    {
      "cell_type": "markdown",
      "metadata": {
        "id": "5HJZ8cnj14cs"
      },
      "source": [
        "#### Neural Language Models\n",
        "---\n",
        "* There are classical ways to build a language models, but the focus of this course is deep learning, so we will leave the classical approaches to the various NLP courses.\n",
        "* **Embeddings**: Basically we input the text into a neural network, the neural network will map all this context onto a vector. This vector represents the next word and we have some big word embedding matrix. The word embedding matrix contains a vector for every possible word the model can output.\n",
        "* The first neural language models were convolutional-based (1D):\n",
        "    * Embed each word as a vector, which is a lookup table to the embedding matrix, so the word will get the same vector no matter what context it appears in.\n",
        "    * Apply same feed forward network at each time step.\n",
        "    * Unfortunately, fixed length history means it can only condition on bounded context, but these models are very fast!"
      ]
    },
    {
      "cell_type": "markdown",
      "metadata": {
        "id": "h3PpQays14cw"
      },
      "source": [
        "<img src=\"https://github.com/ynahum/ee046211-deep-learning/blob/main/assets/lang_model_conv.jpg?raw=1\" style=\"height:300px\">"
      ]
    },
    {
      "cell_type": "markdown",
      "metadata": {
        "id": "JMONnPpH14cy"
      },
      "source": [
        "#### Forms of Sequence Prediction Tasks\n",
        "---\n",
        "* **One-to-one**: from fixed-sized input to fixed-sized output (e.g. image classification).\n",
        "* **One-to-many**: Sequence output (e.g. image captioning takes an image and outputs a sentence of words).\n",
        "* **Many-to-one**: Sequence input (e.g. sentiment analysis where a given sentence is classified as expressing positive or negative sentiment or given some text predict the next character)\n",
        "* **Many-to-many**: Sequence input and sequence output (e.g. Machine Translation).\n",
        "* **Many-to-many**: Synced sequence input and output (e.g. video classification where we wish to label each frame of the video)."
      ]
    },
    {
      "cell_type": "markdown",
      "metadata": {
        "id": "WkXx_GQv14c0"
      },
      "source": [
        "<img src=\"https://github.com/ynahum/ee046211-deep-learning/blob/main/assets/seq_tasks.jpeg?raw=1\" style=\"height:250px\">\n",
        "\n",
        "* <a href=\"http://karpathy.github.io/2015/05/21/rnn-effectiveness/\">Image Source</a>"
      ]
    },
    {
      "cell_type": "markdown",
      "metadata": {
        "id": "QUmNNEQY14c2"
      },
      "source": [
        "## <img src=\"https://img.icons8.com/bubbles/50/000000/connection-sync.png\" style=\"height:50px;display:inline\"> Text Preprocessing\n",
        "---\n",
        "* Before we dive into the specific models, we need to understand how to process text data, as you can't just feed words to neural networks, but you need to give them some numerical representation.\n",
        "    * In classic NLP, the words are sometimes represented as one-hot vectors, where the vector's size is the vocabulary size.\n",
        "* The general steps are:\n",
        "    * Load text as strings into memory.\n",
        "    * **Tokenization**: Split strings into tokens (e.g., words, parts of words and characters).\n",
        "    * **Vocabulary**: Build a table of vocabulary to map the split tokens to numerical indices.\n",
        "    * Convert text into sequences of numerical indices so they can be manipulated by models easily.\n",
        "* We will use `torchtext`, the official PyTorch library to handle text data.\n",
        "* We use the IMDB dataset: this dataset contains movie reviews which are labeled as `positive` and `negative` (for good and bad reviews, respectively).\n",
        "    * This task is called **sentiment analysis** in NLP, and it is essentially a classification task.\n",
        "* If you want to load other datasets or load a custom dataset: https://torchtext.readthedocs.io/en/latest/datasets.html\n",
        "* **Special tokens**:\n",
        "    * `<sos>` - token that marks the start of a sentence.\n",
        "    * `<pad>` - token that is used to pad sentences that are shorter than the longest sentence in a batch.\n",
        "    * `<eos>` - token that marks the end of a sentence.\n",
        "    * `<unk>` - token that marks unknown words (e.g., if the model thinks that no word in the vocabulary is good as next word or you decided to leave out some words, like names)."
      ]
    },
    {
      "cell_type": "code",
      "execution_count": 34,
      "metadata": {
        "id": "qYqrrGyF14c3",
        "outputId": "4379440a-24e5-4e05-8cf4-d8ff5d48fc54",
        "colab": {
          "base_uri": "https://localhost:8080/"
        }
      },
      "outputs": [
        {
          "output_type": "stream",
          "name": "stdout",
          "text": [
            "train :  25000\n",
            "test :  25000\n",
            "train.fields : {'text': <torchtext.legacy.data.field.Field object at 0x7f8ae7062bd0>, 'label': <torchtext.legacy.data.field.LabelField object at 0x7f8ae7062c50>}\n"
          ]
        }
      ],
      "source": [
        "max_len = 200  # max length of a sequence\n",
        "# define a text field\n",
        "text = data.Field(sequential=True, fix_length=max_len, batch_first=True, lower=True, dtype=torch.long)\n",
        "# define a label field\n",
        "label = data.LabelField(sequential=False, dtype=torch.long)\n",
        "# uncomment the following to download the imdb dataset\n",
        "datasets.IMDB.download('./datasets')\n",
        "# split to train and test\n",
        "ds_train, ds_test = datasets.IMDB.splits(text, label, path='./datasets/imdb/aclImdb/')\n",
        "# if you want to load a custom text dataset, you can take a look at how `datasets.IMDB` is implemented\n",
        "print('train : ', len(ds_train))\n",
        "print('test : ', len(ds_test))\n",
        "print('train.fields :', ds_train.fields)"
      ]
    },
    {
      "cell_type": "code",
      "execution_count": 35,
      "metadata": {
        "id": "76Eoa8o-14dA",
        "outputId": "308864df-b375-41f6-887c-2743c014adff",
        "colab": {
          "base_uri": "https://localhost:8080/"
        }
      },
      "outputs": [
        {
          "output_type": "stream",
          "name": "stdout",
          "text": [
            "train :  22500\n",
            "valid :  2500\n",
            "test :  25000\n"
          ]
        }
      ],
      "source": [
        "# further split to train and validation\n",
        "ds_train, ds_valid = ds_train.split(0.9)\n",
        "print('train : ', len(ds_train))\n",
        "print('valid : ', len(ds_valid))\n",
        "print('test : ', len(ds_test))"
      ]
    },
    {
      "cell_type": "code",
      "execution_count": 36,
      "metadata": {
        "id": "m4TB6-c614dC"
      },
      "outputs": [],
      "source": [
        "# build a vocabulary\n",
        "num_words = 50_000  # a fancy way to write 50,000\n",
        "text.build_vocab(ds_train, max_size=num_words)  # sorted by frequency, take top-`num_words`\n",
        "label.build_vocab(ds_train)\n",
        "vocab = text.vocab"
      ]
    },
    {
      "cell_type": "code",
      "execution_count": 37,
      "metadata": {
        "id": "bDDMH6Dy14dD",
        "outputId": "55587163-234f-46ac-c8dc-f6759445916a",
        "colab": {
          "base_uri": "https://localhost:8080/"
        }
      },
      "outputs": [
        {
          "output_type": "stream",
          "name": "stdout",
          "text": [
            "the token of 'what': 48\n",
            "token number 27 is: he\n",
            "special tokens:\n",
            "<pad>:  1\n",
            "<unk>:  0\n"
          ]
        }
      ],
      "source": [
        "# let's see what is the token assigned for 'what'\n",
        "print(\"the token of 'what':\", vocab.stoi['what'])\n",
        "# let's see what is the token number 27\n",
        "print(\"token number 27 is:\", vocab.itos[27])\n",
        "# special tokens\n",
        "print(\"special tokens:\")\n",
        "print(\"<pad>: \", vocab.stoi['<pad>'])\n",
        "print(\"<unk>: \", vocab.stoi['<unk>'])\n",
        "# note that <sos> and <eos> should be added manually"
      ]
    },
    {
      "cell_type": "code",
      "execution_count": 38,
      "metadata": {
        "id": "wTQE2BWD14dE",
        "outputId": "de99c622-5cde-4574-ce9f-4eef99235b42",
        "colab": {
          "base_uri": "https://localhost:8080/"
        }
      },
      "outputs": [
        {
          "output_type": "stream",
          "name": "stdout",
          "text": [
            "tokens: \n",
            "tensor([[  217,    58,    30,   173,   145,   162,     6,   144,    43,  1495,\n",
            "             8,     2,     0,     3,   400,    20,     4,     3,    56,   288,\n",
            "            20,    12,     0,   426,  1594,     5,    79,   101,   490,   782,\n",
            "             8,     2,    20,    11,    22,    58,  3165,    18,  1130,   548,\n",
            "           681, 15490,   797,     4,    31,     2,   109,     2,   109,     2,\n",
            "          1495,     8,     2,  3461,  3710,    14,     0,    16,     2,   130,\n",
            "             9,   304, 34934,    36,  3241,    12,  3165,  2424,   145,    22,\n",
            "           274,   142,  2151,  7384,  4946,    18,     9,    98,     2,   986,\n",
            "            66,   244,     6,    91,    12,   481,    37,   100,     8,  6540,\n",
            "          2244,   190,     2,     0,   750,     4,    12,  2103,     0,    18,\n",
            "            38,    48,    12,    14,  3212,    86,    67,     0,  3590,     8,\n",
            "             2,  1590,     0,     2,   782,    23,    38,     0,    44,   237,\n",
            "             1,     1,     1,     1,     1,     1,     1,     1,     1,     1,\n",
            "             1,     1,     1,     1,     1,     1,     1,     1,     1,     1,\n",
            "             1,     1,     1,     1,     1,     1,     1,     1,     1,     1,\n",
            "             1,     1,     1,     1,     1,     1,     1,     1,     1,     1,\n",
            "             1,     1,     1,     1,     1,     1,     1,     1,     1,     1,\n",
            "             1,     1,     1,     1,     1,     1,     1,     1,     1,     1,\n",
            "             1,     1,     1,     1,     1,     1,     1,     1,     1,     1,\n",
            "             1,     1,     1,     1,     1,     1,     1,     1,     1,     1]])\n",
            "text:  there's only one thing i'm going to say about cat in the <unk> a kids movie and a good comedy movie it <unk> lost track of how many terrible jokes in the movie that not only sucked but weren't exactly kid appropriate. oh and by the way the way the cat in the hat talked was <unk> for the plot i completely forgot. who cares it sucked anyway. i'm not sure why mike myers joined but i think the writers were trying to make it sound like him in austin powers without the <unk> talk and it overly <unk> but so what it was annoying. don't see <unk> belongs in the bottom <unk> the jokes are so <unk> it's funny <pad> <pad> <pad> <pad> <pad> <pad> <pad> <pad> <pad> <pad> <pad> <pad> <pad> <pad> <pad> <pad> <pad> <pad> <pad> <pad> <pad> <pad> <pad> <pad> <pad> <pad> <pad> <pad> <pad> <pad> <pad> <pad> <pad> <pad> <pad> <pad> <pad> <pad> <pad> <pad> <pad> <pad> <pad> <pad> <pad> <pad> <pad> <pad> <pad> <pad> <pad> <pad> <pad> <pad> <pad> <pad> <pad> <pad> <pad> <pad> <pad> <pad> <pad> <pad> <pad> <pad> <pad> <pad> <pad> <pad> <pad> <pad> <pad> <pad> <pad> <pad> <pad> <pad> <pad> <pad>\n",
            "label: \n",
            "tensor([0])\n"
          ]
        }
      ],
      "source": [
        "batch_size = 1\n",
        "train_loader, valid_loader, test_loader = data.BucketIterator.splits(\n",
        "    (ds_train, ds_valid, ds_test), batch_size=batch_size, sort_key=lambda x: len(x.text), repeat=False)\n",
        "sample = next(iter(train_loader))\n",
        "print(\"tokens: \")\n",
        "print(sample.text)\n",
        "print(\"text: \", \" \".join([vocab.itos[t] for t in sample.text[0].data.cpu().numpy()]))\n",
        "print(\"label: \")\n",
        "print(sample.label)"
      ]
    },
    {
      "cell_type": "markdown",
      "metadata": {
        "id": "zNu6cqjV14dG"
      },
      "source": [
        "### <img src=\"https://img.icons8.com/dusk/64/000000/translate-app.png\" style=\"height:50px;display:inline\"> Evaluation in NLP - Perplexity and BLEU\n",
        "---\n",
        "#### Perplexity\n",
        "---\n",
        "**Perplexity** measures the language model quality. **A better language model should allow us to predict the next token more accurately**. Thus, it should allow us to spend fewer bits in compressing the sequence. We can measure it by the cross-entropy loss averaged over all the $n$ tokens of a sequence: $$ \\frac{1}{n}\\sum_{i=1}^n -\\log P(x_t|x_{t-1}, ..., x_1), $$ where $P$ is given by the language model and $x_t$ is the actual token observed at time step $t$ from the sequence. The **perplexity** is defined as $$ \\exp\\left(\\frac{1}{n}\\sum_{i=1}^n -\\log P(x_t|x_{t-1}, ..., x_1)\\right). $$\n",
        "* Perplexity can be best understood as the harmonic mean of the number of real choices that we have when deciding which token to pick next. \n",
        "* In the **best** case scenario, the model always perfectly estimates the probability of the label token as 1. **In this case the perplexity of the model is 1**.\n",
        "* In the **worst** case scenario, the model always predicts the probability of the label token as 0. In this situation, the perplexity is **positive infinity**.\n",
        "* At the **baseline**, the model predicts a uniform distribution over all the available tokens of the vocabulary. In this case, the perplexity equals the number of unique tokens of the vocabulary.\n",
        "    *  In fact, if we were to store the sequence without any compression, this would be the best we could do to encode it. Hence, this provides a nontrivial upper bound that any useful model must beat."
      ]
    },
    {
      "cell_type": "markdown",
      "metadata": {
        "id": "W52Wkecw14dH"
      },
      "source": [
        "#### Bilingual Evaluation Understudy (BLEU) Score\n",
        "---\n",
        "* **BLEU** score is an algorithm for evaluating the quality of text which has been machine-translated from one natural language to another.\n",
        "* Scores are calculated for individual translated segments—generally sentences—by comparing them with a set of good quality reference translations. \n",
        "* Those scores are then averaged over the whole corpus to reach an estimate of the translation's overall quality. \n",
        "* **Intelligibility or grammatical correctness are not taken into account**.\n",
        "* BLEU's output is always a number between 0 and 1. \n",
        "* This value indicates how similar the candidate text is to the reference texts, with values closer to 1 representing more similar texts.\n",
        "    * Few human translations will attain a score of 1, since this would indicate that the candidate is identical to one of the reference translations. \n",
        "    * For this reason, it is not necessary to attain a score of 1. Because there are more opportunities to match, adding additional reference translations will increase the BLEU score.\n",
        "* BLEU uses a modified version of the precision score between a candidate translation and translation ground-truth (it is better to provide more than one reference), and it is based on $n$-grams.\n",
        "* <a href=\"https://en.wikipedia.org/wiki/BLEU\">Read More</a>"
      ]
    },
    {
      "cell_type": "markdown",
      "metadata": {
        "id": "MT4cq-Z214dL"
      },
      "source": [
        "## <img src=\"https://img.icons8.com/nolan/64/re-enter-pincode.png\" style=\"height:50px;display:inline\"> Recurrent Neural Networks (RNNs)\n",
        "---\n",
        "* The idea of **Recurrent Neural Networks (RNNs)**: save the output of a particular layer and feed it back to the input in order to predict the output of the layer.\n",
        "* Every time step we maintain some state (received from the previous time step)--**hidden state**, which represents what we’ve read so far. This is combined with current word being read and used at later state. Then we repeat this process for as many time steps as we need.\n",
        "\n",
        "<img src=\"https://github.com/ynahum/ee046211-deep-learning/blob/main/assets/rnn_2.gif?raw=1\" style=\"height:200px\">\n",
        "\n",
        "* <a href=\"https://medium.com/perceptronai/recurrent-neural-network-an-introduction-for-beginners-1c13a541c906\">Image Source</a>"
      ]
    },
    {
      "cell_type": "markdown",
      "metadata": {
        "id": "pqQi0MrT14dM"
      },
      "source": [
        "* Let $x$ denote the input layer, $h$ the hidden layer and $y$ the output layer.\n",
        "* Let $A, B \\text{ and } C$ be some network parameters used to improve the output of the model.\n",
        "* At any given time $t$, the current input is a combination of the input at $x(t)$ and $x(t-1)$ (through $h(t-1)$).\n",
        "\n",
        "<img src=\"https://github.com/ynahum/ee046211-deep-learning/blob/main/assets/rnn_3.gif?raw=1\" style=\"height:250px\">\n",
        "\n",
        "* <a href=\"https://www.simplilearn.com/tutorials/deep-learning-tutorial/rnn\">Image Source</a>"
      ]
    },
    {
      "cell_type": "markdown",
      "metadata": {
        "id": "gMWcsQGR14dO"
      },
      "source": [
        "#### The Hidden State of RNN Cells\n",
        "---\n",
        "* For each element in the input sequence, each layer computes the following function: $$ h_t = tanh\\left(W_{ih}x_t +b_{ih} + W_{hh}h_{(t-1)} + b_{hh}\\right), $$ where $h_t$ is the hidden state at time $t$, $x_t$ is the input at time $t$, and $h_{(t-1)}$ is the hidden state of the previous layer at time $t-1$ or the initial hidden state at time 0.\n",
        "\n",
        "<img src=\"https://github.com/ynahum/ee046211-deep-learning/blob/main/assets/rnn_4.gif?raw=1\" style=\"height:250px\">\n",
        "\n",
        "* Image by Michael Nguyen\n",
        "\n",
        "* In PyTorch: <a href=\"https://pytorch.org/docs/stable/generated/torch.nn.RNN.html\">`torch.nn.RNN(input_size, hidden_size, num_layers...)`</a>"
      ]
    },
    {
      "cell_type": "markdown",
      "metadata": {
        "id": "5MYo9Xx-14dO"
      },
      "source": [
        "#### Disadvantages of RNNs\n",
        "---\n",
        "* The whole history of the document reading is compressed into a fixed-size vector at each time step, which is the bottleneck of this model.\n",
        "* **Gradients tend to vanish** with long contexts.\n",
        "* Not possible to parallelize over time-steps, so **slow training**."
      ]
    },
    {
      "cell_type": "markdown",
      "metadata": {
        "id": "x_1glJtD14dP"
      },
      "source": [
        "### <img src=\"https://img.icons8.com/nolan/64/time-machine.png\" style=\"height:50px;display:inline\"> Backpropagation Through Time (BPTT)\n",
        "---\n",
        "* **Forward propagation** in an RNN is relatively straightforward and is the same as MLPs (but delayed, as we need the previous output).\n",
        "* **Backpropagation through time (BPTT)**: a specific application of backpropagation in RNNs. \n",
        "* BPTT requires us to expand or *unroll* the computational graph of an RNN one time step at a time to obtain the dependencies among model variables and parameters.\n",
        "* Then, based on the chain rule, we apply backpropagation to compute and store gradients. \n",
        "    * Since sequences can be rather long, the dependency can be rather lengthy. \n",
        "    * For instance, for a sequence of 1000 characters, the first token could potentially have significant influence on the token at the final position. This is not really computationally feasible (it takes too long and requires too much memory) and it requires over 1000 matrix products before we would arrive at that very elusive gradient.\n",
        "* High powers of matrices can lead to **divergent or vanishing eigenvalues -- exploding or vanishing gradients**.\n",
        "* For efficient computation, **intermediate values are cached** during backpropagation through time."
      ]
    },
    {
      "cell_type": "markdown",
      "metadata": {
        "id": "n4CxYkCE14dQ"
      },
      "source": [
        "#### Computing Gradients in BPTT\n",
        "---\n",
        "* Consider an RNN *without* bias parameters, whose activation function in the hidden layer uses the identity mapping ( $\\phi(x)=x$ ). \n",
        "* For time step $t$ , let the single example input and the label be $x_t\\in \\mathbb{R}^d$ and $y_t$ , respectively.\n",
        "* The hidden state  $h_t\\in \\mathbb{R}^h$  and the output $o_t\\in \\mathbb{R}^q$  are computed as: $$ h_t=W_{hx}x_t+W_{hh}h_{t−1}, $$ $$ o_t = W_{qh}h_t, $$ where $W_{hx}\\in \\mathbb{R}^{h\\times d}$,  $W_{hh}\\in \\mathbb{R}^{h\\times h}$, and $W_{qh}\\in \\mathbb{R}^{q\\times h}$ are the weight parameters.\n",
        "* Denote by $l(o_t,y_t)$ the loss at time step $t$. Our objective function, the loss over $T$ time steps from the beginning of the sequence is thus: $$ L = \\frac{1}{T}\\sum_{t=1}^T l(o_t,y_t).$$"
      ]
    },
    {
      "cell_type": "markdown",
      "metadata": {
        "id": "aAYJMvsQ14dR"
      },
      "source": [
        "* Computational graph for 3 time steps:\n",
        "\n",
        "<img src=\"https://github.com/ynahum/ee046211-deep-learning/blob/main/assets/bptt_1.svg?raw=1\" style=\"height:250px\">\n",
        "\n",
        "* For example, the computation of the hidden states of time step 3,  $h_3$ , depends on the model parameters $W_{hx}$ and $W_{hh}$, the hidden state of the last time step $h_2$, and the input of the current time step $x_3$."
      ]
    },
    {
      "cell_type": "markdown",
      "metadata": {
        "id": "FDSN1l8p14dR"
      },
      "source": [
        "* According to the dependencies in the graph, we can traverse in the opposite direction of the arrows to calculate and store the gradients in turn. We can look at this as unrolled backpropagation.\n",
        "* Differentiating the objective function with respect to the model output at any time step $t$ is straightforward: $$ \\frac{\\partial L}{\\partial o_t} = \\frac{\\partial l(o_t, y_t)}{T\\cdot \\partial o_t} \\in \\mathbb{R}^q.$$\n",
        "* Now, we can calculate the gradient of the objective function with respect to the parameter $W_{qh}$ in the output layer. Note that the objective function $L$ depends on $W_{qh}$ via $o_1,…,o_T$: $$ \\frac{\\partial L}{\\partial W_{qh}}=\\sum_{t=1}^T \\text{prod} \\left(\\frac{\\partial L}{\\partial o_t}, \\frac{\\partial o_t}{\\partial W_{qh}} \\right) = \\sum_{t=1}^T \\frac{\\partial L}{\\partial o_t}h_t^T $$"
      ]
    },
    {
      "cell_type": "markdown",
      "metadata": {
        "id": "S9MBNq_x14dS"
      },
      "source": [
        "* We continue back down the graph, and we need the derivatives w.r.t $h_t$.\n",
        "* At the final time step $T$ the objective function $L$ depends on the hidden state $h_T$ only via $o_T$: $$ \\frac{\\partial L}{\\partial h_T} = \\text{prod}\\left(\\frac{\\partial L}{\\partial o_T}, \\frac{\\partial o_T}{\\partial h_T} \\right) = W_{qh}^T \\frac{\\partial L}{\\partial o_T}\\in \\mathbb{R}^h. $$\n",
        "* It gets trickier for any time step $t<T$, where the objective function $L$ depends on $h_t$ via $h_{t+1}$ and $o_t$. According to the chain rule: $$\\frac{\\partial L}{\\partial h_t} = \\text{prod}\\left(\\frac{\\partial L}{\\partial h_{t+1}}, \\frac{\\partial h_{t+1}}{\\partial h_t} \\right) + \\text{prod}\\left(\\frac{\\partial L}{\\partial o_t}, \\frac{\\partial o_t}{\\partial h_t} \\right) = W_{hh}^T\\frac{\\partial L}{\\partial h_{t+1}} + W_{qh}^T\\frac{\\partial L}{\\partial o_t}. $$\n",
        "* (EXERCISE) Expanding the recurrent computation for any time step $1\\leq t \\leq T$ gives: $$ \\frac{\\partial L}{\\partial h_t} = \\sum_{i=t}^T \\left(W_{hh}^T \\right)^{T-i}W_{qh}^T\\frac{\\partial L}{\\partial o_{T+t-i}} $$"
      ]
    },
    {
      "cell_type": "markdown",
      "metadata": {
        "id": "T6KhPvPm14dS"
      },
      "source": [
        "* Notice that the simple linear equation already exhibits some key problems of long sequence models: it involves potentially very large powers of $W_{hh}^T$. \n",
        "* In it, eigenvalues smaller than 1 **vanish** and eigenvalues larger than 1 **diverge**. This is numerically unstable, which manifests itself in the form of **vanishing and exploding gradients**. \n",
        "* One way to address this is to **truncate** the time steps at a computationally convenient size. In practice, this truncation is effected by detaching the gradient after a given number of time steps.\n",
        "* GRUs and LSTMs cells can alleviate this better as we will soon see."
      ]
    },
    {
      "cell_type": "markdown",
      "metadata": {
        "id": "CjveSDVQ14dU"
      },
      "source": [
        "* Finally, the objective function $L$ depends on model parameters $W_{hx}$ and $W_{hh}$ in the hidden layer via hidden states  $h_1,…,h_T$: $$ \\frac{\\partial L}{\\partial W_{hx}} = \\sum_{i=t}^T \\text{prod}\\left(\\frac{\\partial L}{\\partial h_t}, \\frac{\\partial h_t}{\\partial W_{hx}} \\right) = \\sum_{i=t}^T \\frac{\\partial L}{\\partial h_t}x_t^T, $$\n",
        "$$ \\frac{\\partial L}{\\partial W_{hh}} = \\sum_{i=t}^T \\text{prod}\\left(\\frac{\\partial L}{\\partial h_t}, \\frac{\\partial h_t}{\\partial W_{hh}} \\right) = \\sum_{i=t}^T \\frac{\\partial L}{\\partial h_t}h_{t-1}^T$$\n",
        "\n",
        "* BPTT computes and stores the above gradients in turn. Specifically, stored intermediate values are reused to avoid duplicate calculations, such as storing  $\\frac{\\partial L}{\\partial h_t}$ to be used in computation of both $\\frac{\\partial L}{\\partial W_{hx}}$ and $\\frac{\\partial L}{\\partial W_{hh}}$."
      ]
    },
    {
      "cell_type": "markdown",
      "metadata": {
        "id": "TEEfBPkJ14dW"
      },
      "source": [
        "### <img src=\"https://img.icons8.com/dusk/64/000000/memory-slot.png\" style=\"height:50px;display:inline\"> Long Term Short Memory (LSTM)\n",
        "---\n",
        "* As mentioned before, during backpropagation, RNNs suffer from the vanishing gradient problem, which essentially creates a **short memory**.\n",
        "* Long short-term memory (LSTM) is a type of recurrent cell that tries to preserve long term information. The idea of LSTM was presented back in 1997, but flourished in the age of deep learning.\n",
        "* LSTM introduces a memory cell that has the same shape as the hidden state, engineered to record additional information.\n",
        "* The memory is controlled by 3 main gates: \n",
        "    * **Input gate**: decides when to read data into the cell.\n",
        "    * **Output gate**: outputs the entries from the cell.\n",
        "    * **Forget gate**: a mechanism to reset the content of the cell.\n",
        "* These gates learn which information is relevant to forget or remember during the training process. The gates contain a sigmoid activation function."
      ]
    },
    {
      "cell_type": "markdown",
      "metadata": {
        "id": "GUsSj86h14dZ"
      },
      "source": [
        "<img src=\"https://github.com/ynahum/ee046211-deep-learning/blob/main/assets/lstm_1.svg?raw=1\" style=\"height:250px\">"
      ]
    },
    {
      "cell_type": "markdown",
      "metadata": {
        "id": "tqkrttuU14da"
      },
      "source": [
        "* Suppose that there are $h$ hidden units, the batch size is $n$, and the number of inputs is $d$. Thus, the input is $X_t\\in \\mathbb{R}^{n\\times d}$ (number of examples: $n$, number of inputs: $d$) and the hidden state of the previous time step is $H_{t-1}\\in\\mathbb{R}^{n\\times h}$ (number of hidden units: $h$). We define the following at timestep $t$:\n",
        "    * **Input gate**: $$ I_t = \\sigma(X_tW_{xi} +H_{t-1}W_{hi} +b_i) \\in \\mathbb{R}^{n\\times h},$$\n",
        "    * **Forget gate**: $$ F_t = \\sigma(X_tW_{xf} +H_{t-1}W_{hf} +b_f) \\in \\mathbb{R}^{n\\times f}, $$\n",
        "    * **Output gate**: $$ O_t = \\sigma(X_tW_{xo} +H_{t-1}W_{ho} +b_o) \\in \\mathbb{R}^{n\\times o}, $$"
      ]
    },
    {
      "cell_type": "markdown",
      "metadata": {
        "id": "e8aJ0Rhw14da"
      },
      "source": [
        "#### Memory Cell\n",
        "---\n",
        "* The candidate memory cell $\\tilde{C}_t$ is defined as follows: $$ \\tilde{C}_t = \\text{tanh}(X_tW_{xc} +H_{t-1}W_{hc} +b_c) \\in \\mathbb{R}^{n\\times c}$$\n",
        "    * Note the difference in notations: a candidate memory is denoted with $\\tilde{\\cdot}$ while the actual memory is without the tilde.\n",
        "* The input gate $I_t$ governs how much we take new data into account via $\\tilde{C}_t$ and the forget gate $F_t$ addresses how much of the old memory cell content $C_{t-1}$ we retain. This yields: $$ C_t = F_t \\odot C_{t-1} + I_{t} \\odot \\tilde{C}_t$$\n",
        "    * $\\odot$ is the element-wise product operator (Hadamard).\n",
        "* If the forget gate is always approximately 1 and the input gate is always approximately 0, the past memory cells $C_{t-1}$ will be saved over time and passed to the current time step. \n",
        "* This design is introduced to alleviate the vanishing gradient problem and to better capture long range dependencies within sequences.\n",
        "* Finally, the hidden state at time $t$: $$ H_t = O_t \\odot \\text{tanh}(C_t).$$"
      ]
    },
    {
      "cell_type": "markdown",
      "metadata": {
        "id": "iDtv4gh_14db"
      },
      "source": [
        "<img src=\"https://github.com/ynahum/ee046211-deep-learning/blob/main/assets/lstm_2.gif?raw=1\" style=\"height:350px\">\n",
        "\n",
        "* <a href=\"https://becominghuman.ai/long-short-term-memory-part-1-3caca9889bbc\">Image Source</a>"
      ]
    },
    {
      "cell_type": "code",
      "execution_count": 39,
      "metadata": {
        "id": "f5EtatoU14db",
        "outputId": "49f3730f-f5fc-43cf-b5a1-8d8848855028",
        "colab": {
          "base_uri": "https://localhost:8080/"
        }
      },
      "outputs": [
        {
          "output_type": "stream",
          "name": "stdout",
          "text": [
            "shapes: output - torch.Size([5, 3, 20]), hidden - torch.Size([2, 3, 20]), memory - torch.Size([2, 3, 20])\n"
          ]
        }
      ],
      "source": [
        "rnn = nn.LSTM(input_size=10, hidden_size=20, num_layers=2)\n",
        "x = torch.randn(5, 3, 10)  # 5 words per senetence, 3 sentences (batch_size), embedding dimension of each word is 10\n",
        "h0 = torch.randn(2, 3, 20)  # initialize hidden states per layer\n",
        "c0 = torch.randn(2, 3, 20)  # initialize memory per layer\n",
        "output, (hn, cn) = rnn(x, (h0, c0))\n",
        "print(f'shapes: output - {output.shape}, hidden - {hn.shape}, memory - {cn.shape}')"
      ]
    },
    {
      "cell_type": "markdown",
      "metadata": {
        "id": "cytVSFsz14dc"
      },
      "source": [
        "### <img src=\"https://img.icons8.com/color/96/000000/front-gate-open.png\" style=\"height:50px;display:inline\"> Gated Recurrent Unit (GRU)\n",
        "---\n",
        "* Unlike regular RNNs, Gated Recurrent Units (GRUs) support gating of the hidden state.\n",
        "* GRUs have two mechanism to control when a hidden state should be updated, **update gate** and also when it should be reset, **reset gate**.\n",
        "* **Reset gate**: allows to control how much of the previous state should be remembered, helps capture short-term dependencies in sequences.\n",
        "* **Update gate**: allows to control how much of the new state is just a copy of the old state, help capture long-term dependencies in sequences.\n",
        "* Unlike LSTMS, GRUs don't have a memory component, and thus are much faster to update (which results in faster training), but usually LSTMs perform better."
      ]
    },
    {
      "cell_type": "markdown",
      "metadata": {
        "id": "WsDSJaVZ14de"
      },
      "source": [
        "<img src=\"https://github.com/ynahum/ee046211-deep-learning/blob/main/assets/gru_1.svg?raw=1\" style=\"height:300px\">"
      ]
    },
    {
      "cell_type": "markdown",
      "metadata": {
        "id": "-SNtj8Sj14de"
      },
      "source": [
        "* Suppose that the input is a mini-batch $X_t \\in \\mathbb{R}^{n\\times d}$ for a given time step $t$ and the hidden state of the previous time step is $H_{t−1}\\in \\mathbb{R}^{n\\times h}$.\n",
        "* The reset gate $R_t \\in \\mathbb{R}^{n \\times h}$ and update gate $Z_t \\in \\mathbb{R}^{n \\times h}$ are computed as follows: $$ R_t = \\sigma(X_tW_{xr} + H_{t-1}W_{hr} +b_r), $$ $$ Z_t = \\sigma(X_tW_{xz} + H_{t-1}W_{hz} +b_z), $$ where $W_{xr}, W_{xz} \\in \\mathbb{R}^{d \\times h}$ and $W_{hr}, W_{hz} \\in \\mathbb{R}^{h \\times h}$ are weight parameters, and $b_r, b_z \\in \\mathbb{R}^{1 \\times h}$ are biases."
      ]
    },
    {
      "cell_type": "markdown",
      "metadata": {
        "id": "sQ5rcRCX14df"
      },
      "source": [
        "#### GRUs Hidden State\n",
        "---\n",
        "* The *candidate* hidden state $\\tilde{H}_{t} \\in \\mathbb{R}^{n \\times h}$ at timestep $t$ is defined as: $$ \\tilde{H}_{t} = \\text{tanh}\\left(X_t W_{xh} + (R_t \\odot H_{t-1})W_{hh} \\right) + b_h$$\n",
        "    * The result is a candidate since we still need to incorporate the action of the *update gate*.\n",
        "* Finally, the new hidden state $H_t$ and the final update to the GRU in timestep $t$: $$ H_t = Z_t \\odot H_{t-1} +(1-Z_t) \\odot \\tilde{H}_t. $$\n",
        "* Whenever the update gate $Z_t$ is close to 1, we simply retain the old state. In this case the information from $X_t$ is essentially ignored, effectively skipping time step $t$ in the dependency chain. \n",
        "* In contrast, whenever $Z_t$ is close to 0, the new latent state $H_t$ approaches the candidate latent state $\\tilde{H}_t$.\n",
        "* These designs can help us cope with the vanishing gradient problem in RNNs and better capture dependencies for sequences with large time step distances."
      ]
    },
    {
      "cell_type": "code",
      "execution_count": 40,
      "metadata": {
        "id": "5BVrIgQo14dg",
        "outputId": "f621982b-4a92-4922-ebb3-7bef1a1a02e5",
        "colab": {
          "base_uri": "https://localhost:8080/"
        }
      },
      "outputs": [
        {
          "output_type": "stream",
          "name": "stdout",
          "text": [
            "shapes: output - torch.Size([5, 3, 20]), hidden - torch.Size([2, 3, 20])\n"
          ]
        }
      ],
      "source": [
        "rnn = nn.GRU(input_size=10, hidden_size=20, num_layers=2)  \n",
        "x = torch.randn(5, 3, 10)  # 5 words per senetence, 3 sentences (batch_size), embedding dimension of each word is 10\n",
        "h0 = torch.randn(2, 3, 20)  # initialize hidden states per layer\n",
        "output, hn = rnn(x, h0)\n",
        "print(f'shapes: output - {output.shape}, hidden - {hn.shape}')"
      ]
    },
    {
      "cell_type": "markdown",
      "metadata": {
        "id": "mwV_6NPx14dg"
      },
      "source": [
        "### <img src=\"https://img.icons8.com/bubbles/50/000000/fire-element.png\" style=\"height:50px;display:inline\"> PyTorch RNN Model Example\n",
        "----\n",
        "Following is an example of building a classifier with LSTMs."
      ]
    },
    {
      "cell_type": "code",
      "execution_count": 41,
      "metadata": {
        "id": "Q1D6tnpR14dh"
      },
      "outputs": [],
      "source": [
        "# https://github.com/FernandoLpz/Text-Classification-LSTMs-PyTorch\n",
        "class TweetClassifier(nn.ModuleList):\n",
        "\n",
        "    def __init__(self, args):\n",
        "        super(TweetClassifier, self).__init__()\n",
        "\n",
        "        self.batch_size = args.batch_size\n",
        "        self.hidden_dim = args.hidden_dim\n",
        "        self.LSTM_layers = args.lstm_layers\n",
        "        self.input_size = args.max_words  # embedding dimension\n",
        "\n",
        "        self.dropout = nn.Dropout(0.5)\n",
        "        self.embedding = nn.Embedding(self.input_size, self.hidden_dim, padding_idx=0)\n",
        "        self.lstm = nn.LSTM(input_size=self.hidden_dim, hidden_size=self.hidden_dim, num_layers=self.LSTM_layers,\n",
        "                            batch_first=True)  # NOTE: batch_first=True:\n",
        "        # input and output tensors are provided as (batch, seq, feature) instead of (seq, batch, feature).\n",
        "        self.fc1 = nn.Linear(in_features=self.hidden_dim, out_features=257)\n",
        "        self.fc2 = nn.Linear(257, 1)\n",
        "\n",
        "    def forward(self, x):\n",
        "        h = torch.zeros((self.LSTM_layers, x.size(0), self.hidden_dim))\n",
        "        c = torch.zeros((self.LSTM_layers, x.size(0), self.hidden_dim))\n",
        "\n",
        "        torch.nn.init.xavier_normal_(h)\n",
        "        torch.nn.init.xavier_normal_(c)\n",
        "\n",
        "        out = self.embedding(x)\n",
        "        out, (hidden, cell) = self.lstm(out, (h, c))\n",
        "        out = self.dropout(out)\n",
        "        out = torch.relu_(self.fc1(out[:, -1, :]))\n",
        "        out = self.dropout(out)\n",
        "        out = torch.sigmoid(self.fc2(out))\n",
        "\n",
        "        return out"
      ]
    },
    {
      "cell_type": "markdown",
      "metadata": {
        "id": "IzOZ9vcd14di"
      },
      "source": [
        "## <img src=\"https://img.icons8.com/cute-clipart/64/000000/alarm.png\" style=\"height:50px;display:inline\"> Attention\n",
        "---\n",
        "* **Attention** is a generalized pooling method with bias alignment over inputs. \n",
        "* An input of the attention layer is called a **query**. \n",
        "* For a query, attention returns an output based on the memory — a set of **key-value** pairs encoded in the attention layer.\n",
        "* There are two main types of attention: **self-attention** and **cross-attention**, and in each type we can define **hard** attention or **soft** attention.\n",
        "* Our foucs will be **self-attention**."
      ]
    },
    {
      "cell_type": "markdown",
      "metadata": {
        "id": "NOuYD3Rm14dj"
      },
      "source": [
        "* Consider a set of $t$ input $x$'s, where $x_i \\in \\mathbb{R}^n$. This set can be represented as the matrix $X \\in \\mathbb{R}^{n \\times t}$.\n",
        "* In self-attention, we define the hidden representation $h$ as a linear combination of the inputs: $$ h = \\alpha_1 x_1 +...\\alpha_t x_t $$\n",
        "* Using the matrix representation described above, and stacking all the $\\alpha$'s is a vector $a \\in \\mathbb{R}^{t}$ we can write the hidden layer as the matrix product: $ h=Xa \\in \\mathbb{R}^n $\n",
        "* Depending on the constraints we impose on the vector $a$, we can achieve hard or soft attention.\n",
        "* **Hard attention**: we impose the following constraint on the alphas: $||a||_0=1$, which means that $a$ is a one-hot vector. That is the hidden representation reduces to the input $x_i$ corresponding to the element $\\alpha_i=1$.\n",
        "* **Soft attention**: With soft attention, we impose that $||a||_1=1$. The hidden representations is a linear combination of the inputs where the coefficients sum up to 1."
      ]
    },
    {
      "cell_type": "markdown",
      "metadata": {
        "id": "7MpK9r8j14dj"
      },
      "source": [
        "#### Obtaining $\\alpha_i$'s\n",
        "---\n",
        "* **Hard attention**: $$a = \\text{argmax}(X^Tx_i) \\in \\mathbb{R}^t $$\n",
        "    * We get a one-hot vector of alphas.\n",
        "* **Soft attention**: $$ a = \\text{soft(arg)max}(X^Tx_i) \\in \\mathbb{R}^t  $$\n",
        "    * The components of the resulting vector $a$ sum to 1.\n",
        "* The components of the vector $a$ are also called “scores” because the scalar product between two vectors tells us how aligned or similar two vectors are. \n",
        "* Therefore, the elements of $a$ provide information about the similarity of the overall set to a particular $x_i$.\n",
        "* Generating $a$ this way gives a set of them, one for each $x_i$. Moreover, each $a_i \\in \\mathbb{R}^t$ so we can stack the alphas in a matrix $A \\in \\mathbb{R}^{t \\times t}$.\n",
        "* Since each hidden state is a linear combination of the inputs $X$ and a vector $a$, we obtain a set of $t$ hidden states, which we can stack into a matrix $H \\in \\mathbb{R}^{n \\times t}$: $$ H = XA $$"
      ]
    },
    {
      "cell_type": "markdown",
      "metadata": {
        "id": "m5FpvU-114dk"
      },
      "source": [
        "<img src=\"https://github.com/ynahum/ee046211-deep-learning/blob/main/assets/attn_3.png?raw=1\" style=\"height:300px\">\n",
        "\n",
        "* Visualization of the outputs upon using two heads.\n",
        "* We can see that if the Query word is **it**, the first head focuses more on the words **the animal**, and the second head focuses more on the word **tired**. \n",
        "* Hence, the final context representation will be focusing on all the words **the, animal** and **tired**, and thus is a superior representation as compared to the traditional way.\n",
        "* <a href=\"https://blogs.oracle.com/datascience/multi-head-self-attention-in-nlp\">Images Source</a>"
      ]
    },
    {
      "cell_type": "markdown",
      "metadata": {
        "id": "SLczhcOx14dl"
      },
      "source": [
        "### <img src=\"https://img.icons8.com/nolan/64/key.png\" style=\"height:50px;display:inline\"> Attention with Key-Value Mechanism\n",
        "---\n",
        "* Now that we have a way to calculate scores based on similarity, we apply it in a key-value fashion.\n",
        "* A key-value store is a paradigm designed for storing (saving), retrieving (querying) and managing associative arrays (dictionaries / hash tables).\n",
        "* Imaginative example: the Lasagne recipe \n",
        "    * **Query**: say we wanted to find a recipe to make lasagne. We have a recipe book and search for “lasagne” - this is the **query**. \n",
        "    * **Key**: this query is checked against all possible **keys** in your dataset - in this case, this could be the titles of all the recipes in the book. \n",
        "    * We check how aligned the query is with each title to find the maximum matching score between the query and all the respective keys. \n",
        "    * **Value**: If our output is the argmax function - we retrieve the *single* recipe (value) with the highest score. Otherwise, if we use a soft argmax function, we would get a probability distribution and can retrieve in order from the most similar content to less and less relevant recipes matching the query.\n",
        "    * Summary: keys and queries - titles of recipes, values - the actual recipe."
      ]
    },
    {
      "cell_type": "markdown",
      "metadata": {
        "id": "93YdzEXV14dl"
      },
      "source": [
        "#### Queries, Keys and Values\n",
        "---\n",
        "* We denote the vectors $q ,k$ and $v$ as the query, key and value vectors, respectively and their corresponding learnable parameters matrices $W_{q}, W_k$ and $W_v$: $$ q = W_q x $$ $$ k = W_k x $$ $$ v = W_v x $$\n",
        "*  We also do not include any non-linearities since attention is completely based on **orientation**.\n",
        "* In order to compare the query against all possible keys, $q$ and $k$ must have the same dimensionality, i.e. $q, k \\in \\mathbb{R}^d$.\n",
        "* $v$ can be of any dimension, $v \\in \\mathbb{R}^{d_v}$. \n",
        "    * In the lasagne recipe example - we need the query to have the dimension as the keys, i.e. the titles of the different recipes that we’re searching through. The dimension of the corresponding recipe retrieved, $v$, can be arbitrarily long though.\n",
        "* For simplicity, we will assume that everything has the same dimension $d$ ($d_v =d$)."
      ]
    },
    {
      "cell_type": "markdown",
      "metadata": {
        "id": "2iMqRJQV14dn"
      },
      "source": [
        "* Given a set of $x$'s, a set of queries, a set of keys and a set of values, we can stack these sets into matrices each with $t$ columns since we stacked $t$ vectors; each vector has height $d$: $$ \\{x_i\\}_{i=1}^t \\to \\{q_i\\}_{i=1}^t, \\{k_i\\}_{i=1}^t, \\{v_i\\}_{i=1}^t \\to Q, K, V \\in \\mathbb{R}^{d \\times t} $$\n",
        "* We compare one query $q$ against the matrix of all keys $K$: $$ a = \\text{[soft]argmax}(K^T q) \\in \\mathbb{R}^t $$\n",
        "* Then the hidden layer is going to be the linear combination of the columns of $V$ weighted by the coefficients in $a$: $$ h=Va \\in \\mathbb{R}^{d} $$\n",
        "* Since we have $t$ queries, we’ll get $t$ corresponding $a$ weights and therefore a matrix $A \\in \\mathbb{R}^{t \\times t}$, which yields: $$ H = VA \\in \\mathbb{R}^{d \\times t}$$"
      ]
    },
    {
      "cell_type": "markdown",
      "metadata": {
        "id": "vAjNDLAC14do"
      },
      "source": [
        "* For implementation, we can speed up computation by stacking all the $W$’s into one tall $W$ and then calculate $q, k, v$ in one go: $$ \\begin{bmatrix} q \\\\ k \\\\ v \\end{bmatrix} = \\begin{bmatrix}W_q \\\\ W_k \\\\ W_v\\end{bmatrix} x \\in \\mathbb{R}^{3d} $$\n",
        "* **Multi-head Attention**: one \"head\" of attention corresponds to one dictionary of queries, keys values. For $h$ heads of attention we have $h$ $q$’s, $h$ $k$’s and $h$ $v$’s and we end up with a vector: $$  \\begin{bmatrix} q^1 \\\\ \\vdots \\\\ q^h \\\\ k^1 \\\\ \\vdots \\\\ k^h \\\\ v^1 \\\\ \\vdots \\\\ v^h \\end{bmatrix} = \\begin{bmatrix}W_q^1 \\\\ \\vdots \\\\ W_q^h \\\\ W_k^1 \\\\ \\vdots \\\\ W_k^h \\\\ W_v^1 \\\\ \\vdots \\\\  W_v^h\\end{bmatrix} x \\in \\mathbb{R}^{3hd} $$\n",
        "* We can still transform the multi-headed values to have the original dimension $\\mathbb{R}^{d}$ by using a $W_h \\in \\mathbb{R}^{d \\times hd}$."
      ]
    },
    {
      "cell_type": "markdown",
      "metadata": {
        "id": "GUu1g3Gu14dp"
      },
      "source": [
        "<img src=\"https://github.com/ynahum/ee046211-deep-learning/blob/main/assets/attn_1.png?raw=1\" style=\"height:200px\">"
      ]
    },
    {
      "cell_type": "markdown",
      "metadata": {
        "id": "fTSt1-De14dp"
      },
      "source": [
        "<img src=\"https://github.com/ynahum/ee046211-deep-learning/blob/main/assets/attn_2.svg?raw=1\" style=\"height:350px\">"
      ]
    },
    {
      "cell_type": "code",
      "execution_count": 53,
      "metadata": {
        "id": "QWr22s2814dq"
      },
      "outputs": [],
      "source": [
        "class MultiHeadAttention(nn.Module):\n",
        "    def __init__(self, d_model, num_heads, dropout, d_input=None):\n",
        "        super().__init__()\n",
        "        self.num_heads = num_heads\n",
        "        self.d_model = d_model\n",
        "        if d_input is None:\n",
        "            d_xq = d_xk = d_xv = d_model\n",
        "        else:\n",
        "            d_xq, d_xk, d_xv = d_input\n",
        "            \n",
        "        # Make sure that the embedding dimension of model is a multiple of number of heads\n",
        "        assert d_model % self.num_heads == 0\n",
        "\n",
        "        self.d_k = d_model // self.num_heads\n",
        "\n",
        "        print(f\"self.d_model = {self.d_model}\")\n",
        "        print(f\"self.num_heads = {self.num_heads}\")\n",
        "        print(f\"self.d_k = {self.d_k}\")\n",
        "\n",
        "        # These are still of dimension d_model. They will be split into number of heads \n",
        "        self.W_q = nn.Linear(d_xq, d_model, bias=False)\n",
        "        self.W_k = nn.Linear(d_xk, d_model, bias=False)\n",
        "        self.W_v = nn.Linear(d_xv, d_model, bias=False)\n",
        "        \n",
        "        # Outputs of all sub-layers need to be of dimension d_model\n",
        "        self.W_h = nn.Linear(d_model, d_model)\n",
        "        \n",
        "        self.dropout = nn.Dropout(dropout)\n",
        "        \n",
        "    def scaled_dot_product_attention(self, Q, K, V):\n",
        "        batch_size = Q.size(0) \n",
        "        k_length = K.size(-2) \n",
        "        print(f\"k_length = {k_length}\")\n",
        "        \n",
        "        # Scaling by d_k so that the soft(arg)max doesnt saturate\n",
        "        Q = Q / np.sqrt(self.d_k)                         # (bs, n_heads, q_length, dim_per_head)\n",
        "        scores = torch.matmul(Q, K.transpose(2,3))          # (bs, n_heads, q_length, k_length)\n",
        "        print(f\"scores.size() = {scores.size()}\")\n",
        "        #print(f\"scores = {scores}\")\n",
        "        \n",
        "        A = torch.softmax(scores, dim=-1)  # (bs, n_heads, q_length, k_length)\n",
        "        print(f\"A.size() = {A.size()}\")\n",
        "        A = self.dropout(A)\n",
        "        \n",
        "        # Get the weighted average of the values\n",
        "        H = torch.matmul(A, V)     # (bs, n_heads, q_length, dim_per_head)\n",
        "\n",
        "        return H, A \n",
        "\n",
        "        \n",
        "    def split_heads(self, x, batch_size):\n",
        "        \"\"\"\n",
        "        Split the last dimension into (heads X depth)\n",
        "        Return after transpose to put in shape (batch_size X num_heads X seq_length X d_k)\n",
        "        \"\"\"\n",
        "        print(f\"x.size() = {x.size()}\")\n",
        "        z = x.view(batch_size, -1, self.num_heads, self.d_k)\n",
        "        print(f\"z.size() = {z.size()}\")\n",
        "        y = z.transpose(1, 2)\n",
        "        print(f\"y.size() = {y.size()}\")\n",
        "        return y\n",
        "\n",
        "    def group_heads(self, x, batch_size):\n",
        "        \"\"\"\n",
        "        Combine the heads again to get (batch_size X seq_length X (num_heads times d_k))\n",
        "        \"\"\"\n",
        "        return x.transpose(1, 2).contiguous().view(batch_size, -1, self.num_heads * self.d_k)\n",
        "    \n",
        "\n",
        "    def forward(self, X_q, X_k, X_v):\n",
        "        batch_size, seq_length, dim = X_q.size()\n",
        "\n",
        "        print(f\"X_q.size() = {X_q.size()}\")\n",
        "\n",
        "        # After transforming, split into num_heads \n",
        "        Q = self.split_heads(self.W_q(X_q), batch_size)  # (bs, n_heads, q_length, dim_per_head)\n",
        "        K = self.split_heads(self.W_k(X_k), batch_size)  # (bs, n_heads, k_length, dim_per_head)\n",
        "        V = self.split_heads(self.W_v(X_v), batch_size)  # (bs, n_heads, v_length, dim_per_head)\n",
        "\n",
        "        print(f\"Q.size() = {Q.size()}\")\n",
        "        print(f\"K.size() = {K.size()}\")\n",
        "        print(f\"V.size() = {V.size()}\")\n",
        "\n",
        "        # Calculate the attention weights for each of the heads\n",
        "        H_cat, A = self.scaled_dot_product_attention(Q, K, V)\n",
        "        print(f\"H_cat.size() = {H_cat.size()}\")\n",
        "        \n",
        "        # Put all the heads back together by concat\n",
        "        H_cat = self.group_heads(H_cat, batch_size)    # (bs, q_length, dim)\n",
        "        print(f\"H_cat.size() = {H_cat.size()}\")\n",
        "        \n",
        "        # Final linear layer  \n",
        "        H = self.W_h(H_cat)          # (bs, q_length, dim)\n",
        "        print(f\"H.size() = {H.size()}\")\n",
        "        \n",
        "        return H, A"
      ]
    },
    {
      "cell_type": "markdown",
      "metadata": {
        "id": "qX1r0b_I14dr"
      },
      "source": [
        "#### Self-Attention Sanity Check\n",
        "---\n",
        "* If the query matches with one of the key values, it should have all the attention focused there, with the value returned as the value at that index."
      ]
    },
    {
      "cell_type": "code",
      "execution_count": 56,
      "metadata": {
        "id": "tHTjO07h14ds",
        "outputId": "bea4861a-231f-4b77-b1c3-f5417aba8f49",
        "colab": {
          "base_uri": "https://localhost:8080/"
        }
      },
      "outputs": [
        {
          "output_type": "stream",
          "name": "stdout",
          "text": [
            "self.d_model = 512\n",
            "self.num_heads = 8\n",
            "self.d_k = 64\n",
            "k_length = 4\n",
            "scores.size() = torch.Size([1, 1, 1, 4])\n",
            "A.size() = torch.Size([1, 1, 1, 4])\n",
            "Attention weights are: tensor([3.7266e-06, 9.9999e-01, 3.7266e-06, 3.7266e-06])\n",
            "Output is: tensor([1.0004e+01, 4.0993e-05, 0.0000e+00])\n",
            "self.d_model = 32\n",
            "self.num_heads = 8\n",
            "self.d_k = 4\n",
            "X_q.size() = torch.Size([1, 5, 7])\n",
            "x.size() = torch.Size([1, 5, 32])\n",
            "z.size() = torch.Size([1, 5, 8, 4])\n",
            "y.size() = torch.Size([1, 8, 5, 4])\n",
            "x.size() = torch.Size([1, 5, 32])\n",
            "z.size() = torch.Size([1, 5, 8, 4])\n",
            "y.size() = torch.Size([1, 8, 5, 4])\n",
            "x.size() = torch.Size([1, 5, 32])\n",
            "z.size() = torch.Size([1, 5, 8, 4])\n",
            "y.size() = torch.Size([1, 8, 5, 4])\n",
            "Q.size() = torch.Size([1, 8, 5, 4])\n",
            "K.size() = torch.Size([1, 8, 5, 4])\n",
            "V.size() = torch.Size([1, 8, 5, 4])\n",
            "k_length = 5\n",
            "scores.size() = torch.Size([1, 8, 5, 5])\n",
            "A.size() = torch.Size([1, 8, 5, 5])\n",
            "H_cat.size() = torch.Size([1, 8, 5, 4])\n",
            "H_cat.size() = torch.Size([1, 5, 32])\n",
            "H.size() = torch.Size([1, 5, 32])\n"
          ]
        }
      ],
      "source": [
        "def print_out(Q, K, V):\n",
        "    temp_out, temp_attn = temp_mha.scaled_dot_product_attention(Q, K, V)\n",
        "    print('Attention weights are:', temp_attn.squeeze())\n",
        "    print('Output is:', temp_out.squeeze())\n",
        "    \n",
        "\n",
        "temp_mha = MultiHeadAttention(d_model=512, num_heads=8, dropout=0)\n",
        "test_K = torch.tensor(\n",
        "    [[10, 0, 0],\n",
        "     [ 0,10, 0],\n",
        "     [ 0, 0,10],\n",
        "     [ 0, 0,10]]\n",
        ").float()[None, None]\n",
        "\n",
        "#print(test_K)\n",
        "#print(test_K.size())\n",
        "test_V = torch.tensor(\n",
        "    [[   1,0,0],\n",
        "     [  10,0,0],\n",
        "     [ 100,5,0],\n",
        "     [1000,6,0]]\n",
        ").float()[None, None]\n",
        "\n",
        "test_Q = torch.tensor(\n",
        "    [[0, 10, 0]]\n",
        ").float()[None, None]\n",
        "print_out(test_Q, test_K, test_V)\n",
        "\n",
        "\n",
        "temp_mha2 = MultiHeadAttention(d_model=32, num_heads=8, dropout=0, d_input=(7,7,30))\n",
        "X = torch.tensor(\n",
        "    np.random.randn(5,7)\n",
        ").float()[None]\n",
        "X_v = torch.tensor(\n",
        "    np.random.randn(5,30)\n",
        ").float()[None]\n",
        "\n",
        "output = temp_mha2(X,X,X_v)"
      ]
    },
    {
      "cell_type": "markdown",
      "metadata": {
        "id": "1IM41kfq14dt"
      },
      "source": [
        "Great! We can see that it focuses on the second key and returns the second value."
      ]
    },
    {
      "cell_type": "markdown",
      "metadata": {
        "id": "Inze3dOC14dt"
      },
      "source": [
        "## <img src=\"https://img.icons8.com/color/96/000000/transformer.png\" style=\"height:50px;display:inline\"> The Transformer\n",
        "---\n",
        "* **Transformer**: attention-based encoder-decoder architecture that aims to combine the advantages from both CNNs and RNNs.\n",
        "* It achieves parallelization by capturing recurrence sequence with attention and at the same time encodes each item’s position in the sequence.\n",
        "    * RNNs are replaced with multi-head attention layers, incorporating the position-wise information through position encoding, and applying layer normalization. \n",
        "* A compatible model with significantly shorter training time.\n",
        "* 3 mains stages: input stage, $n$ times transformer blocks (encoding layers) with different parameters, output stage.\n",
        "* Sequence-to-Sequence (seq2seq) models also require a decoder module, which is why the Transformer can be split into an encoder part and a decoder part.\n",
        "* We will now take a look at each component of the Transformer."
      ]
    },
    {
      "cell_type": "markdown",
      "metadata": {
        "id": "4MZgro_D14du"
      },
      "source": [
        "#### Transformer's Encoder Module\n",
        "---\n",
        "<img src=\"https://github.com/ynahum/ee046211-deep-learning/blob/main/assets/transformer_enc.png?raw=1\" style=\"height:300px\">"
      ]
    },
    {
      "cell_type": "markdown",
      "metadata": {
        "id": "geHvAw9514dv"
      },
      "source": [
        "* The encoder module accepts a set of inputs $\\{x_i\\}_{i=1}^t$, which are simultaneously fed through the **self-attention** block and bypass it to reach the `Add, Norm` block.\n",
        "    *  In tasks that try to model sequential data, **positional encodings** are added prior to self-attetion layer.\n",
        "    * The `Add, Norm` block has two components: the add block is a residual connection, and then layer normalization.\n",
        "* At which point, they are again simultaneously passed through the 1D-Convolution and another `Add, Norm` block, and consequently outputted as the set of hidden representation $\\{h_i^{Enc}\\}_{i=1}^t$.\n",
        "    * 1D-convolution (a position-wise feed forward network): consists of two dense layers. Depending on what values are set, this block allows you to adjust the dimensions of the output $h^{Enc}$.\n",
        "    * Similar to the multi-head attention, the position-wise feed-forward network (1x1 convolution) will only change the last dimension size of the input—the feature dimension. \n",
        "    * In addition, if two items in the input sequence are identical, the according outputs will be identical as well.\n",
        "* This set of hidden representation is then either sent through an arbitrary number of encoder modules (i.e. more layers), or to the *decoder*."
      ]
    },
    {
      "cell_type": "code",
      "execution_count": null,
      "metadata": {
        "id": "VCsziyuN14dv"
      },
      "outputs": [],
      "source": [
        "\"\"\"\n",
        "1-D (1x1) Convolution: an MLP with one hidden layer and ReLU activation applied to each and every element in the set.\n",
        "\"\"\"\n",
        "class CNN(nn.Module):\n",
        "    def __init__(self, d_model, hidden_dim):\n",
        "        super().__init__()\n",
        "        self.k1convL1 = nn.Linear(d_model, hidden_dim)\n",
        "        self.k1convL2 = nn.Linear(hidden_dim, d_model)\n",
        "        self.activation = nn.ReLU()\n",
        "\n",
        "    def forward(self, x):\n",
        "        x = self.k1convL1(x)\n",
        "        x = self.activation(x)\n",
        "        x = self.k1convL2(x)\n",
        "        return x"
      ]
    },
    {
      "cell_type": "code",
      "execution_count": null,
      "metadata": {
        "id": "W3_DroDf14dw",
        "outputId": "ed378ea8-1709-43b2-cea2-c997a4925e6c"
      },
      "outputs": [
        {
          "data": {
            "text/plain": [
              "tensor([[-0.3550,  0.2051,  0.3242, -0.1092],\n",
              "        [-0.3550,  0.2051,  0.3242, -0.1092],\n",
              "        [-0.3550,  0.2051,  0.3242, -0.1092]], grad_fn=<SelectBackward>)"
            ]
          },
          "execution_count": 10,
          "metadata": {},
          "output_type": "execute_result"
        }
      ],
      "source": [
        "ffn = CNN(4, 8)\n",
        "ffn.eval()\n",
        "ffn(torch.ones((2, 3, 4)))[0]"
      ]
    },
    {
      "cell_type": "markdown",
      "metadata": {
        "id": "ymQE16UY14dw"
      },
      "source": [
        "#### Positional Encoding\n",
        "---\n",
        "* Unlike the recurrent layer, both the multi-head attention layer and the position-wise feed-forward network compute the output of each item in the sequence independently. \n",
        "* This feature enables us to **parallelize the computation**, but it fails to model the sequential information for a given sequence. \n",
        "* To better capture the sequential information, the Transformer model uses the positional encoding to **maintain the positional information of the input sequence**.\n",
        "    * The positional encoding adds positional information. This can be implemented in multiple ways, and the Transformer uses `sin` and `cos` functions to add that information."
      ]
    },
    {
      "cell_type": "markdown",
      "metadata": {
        "id": "Nd5RWCLW14dx"
      },
      "source": [
        "* Assume that $X\\in \\mathbb{R}^{l\\times d}$ is the embedding of an example, where $l$ is the sequence length and $d$ is the embedding size. \n",
        "* This positional encoding layer encodes $X$’s position $P\\in \\mathbb{R}^{l\\times d}$ and outputs $P+X$.\n",
        "* The position $P$ is a 2-D matrix, where $i$ refers to the order in the sentence, and $j$ refers to the position along the embedding vector dimension. \n",
        "* In this way, each value in the origin sequence is then maintained using the equations below: $$ P_{i, 2j} = \\sin(i/10000^{2j/d}), $$ $$ P_{i, 2j+1} = \\cos(i/10000^{2j/d}) $$ for $i=0,…,l−1$ and $j=0,…,\\lfloor(d−1)/2\\rfloor$."
      ]
    },
    {
      "cell_type": "markdown",
      "metadata": {
        "id": "mw6-wX7Q14dy"
      },
      "source": [
        "<img src=\"https://github.com/ynahum/ee046211-deep-learning/blob/main/assets/transformer_position_enc.svg?raw=1\" style=\"height:200px\">"
      ]
    },
    {
      "cell_type": "code",
      "execution_count": null,
      "metadata": {
        "id": "NhKginF-14dy"
      },
      "outputs": [],
      "source": [
        "class PositionalEncoding(nn.Module):\n",
        "    def __init__(self, num_hiddens, dropout, max_len=1000):\n",
        "        super(PositionalEncoding, self).__init__()\n",
        "        self.dropout = nn.Dropout(dropout)\n",
        "        # Create a long enough `P`\n",
        "        self.P = torch.zeros((1, max_len, num_hiddens))\n",
        "        X = torch.arange(0, max_len, dtype=torch.float32).reshape(-1, 1)\n",
        "        X = X / torch.pow(10000, torch.arange(0, num_hiddens, 2, dtype=torch.float32) / num_hiddens)\n",
        "        self.P[:, :, 0::2] = torch.sin(X)\n",
        "        self.P[:, :, 1::2] = torch.cos(X)\n",
        "\n",
        "    def forward(self, X):\n",
        "        X = X + self.P[:, :X.shape[1], :].to(X.device)\n",
        "        return self.dropout(X)"
      ]
    },
    {
      "cell_type": "code",
      "execution_count": null,
      "metadata": {
        "id": "7XJJJcAU14dz",
        "outputId": "477142e7-7d5b-48b8-f7ca-c14b9bded7db"
      },
      "outputs": [
        {
          "data": {
            "image/png": "[encoded data removed]",
            "text/plain": [
              "<Figure size 576x288 with 1 Axes>"
            ]
          },
          "metadata": {
            "needs_background": "light"
          },
          "output_type": "display_data"
        }
      ],
      "source": [
        "\"\"\"\n",
        "Test the PositionalEncoding class with a toy model for 4 dimensions. \n",
        "The  4th  dimension has the same frequency as the 5th but with different offset (i.e. phase)\n",
        "because one is produced by a sine function and the other is produced by a cosine function. \n",
        "The  6th  and  7th  dimensions have lower frequency.\n",
        "\"\"\"\n",
        "import matplotlib.pyplot as plt\n",
        "import numpy as np\n",
        "\n",
        "pe = PositionalEncoding(20, 0)\n",
        "pe.eval()\n",
        "Y = pe(torch.zeros((1, 100, 20))).data.cpu().numpy()  # 1 example, 100 words with embedding dim of 20\n",
        "fig = plt.figure(figsize=(8, 4))\n",
        "ax = fig.add_subplot(111)\n",
        "for p in [4, 5, 6, 7]:\n",
        "    ax.plot(np.arange(100), Y[0, :, p].T, label=f'dim {p}')\n",
        "ax.legend()\n",
        "ax.grid()"
      ]
    },
    {
      "cell_type": "code",
      "execution_count": null,
      "metadata": {
        "id": "opO4tDz314d4"
      },
      "outputs": [],
      "source": [
        "# Embeddings class: sequences -> features\n",
        "\n",
        "class Embeddings(nn.Module):\n",
        "    def __init__(self, d_model, vocab_size, max_position_embeddings, dropout=0):\n",
        "        super().__init__()\n",
        "        self.dropout = dropout\n",
        "        self.word_embeddings = nn.Embedding(vocab_size, d_model, padding_idx=1)\n",
        "        self.position_embeddings = PositionalEncoding(num_hiddens=d_model, dropout=self.dropout,\n",
        "                                                      max_len=max_position_embeddings)\n",
        "\n",
        "        self.LayerNorm = nn.LayerNorm(d_model, eps=1e-12)\n",
        "        self.d_model = d_model\n",
        "\n",
        "    def forward(self, input_ids):\n",
        "        seq_length = input_ids.size(1)\n",
        "        \n",
        "        # Get word embeddings for each input id\n",
        "        word_embeddings = self.word_embeddings(input_ids)                   # (bs, max_seq_length, dim)\n",
        "        \n",
        "        # Get position embeddings for the word embeddings and add them     \n",
        "        embeddings = self.position_embeddings(word_embeddings) # (bs, max_seq_length, dim)\n",
        "        \n",
        "        # Layer norm \n",
        "        embeddings = self.LayerNorm(embeddings)             # (bs, max_seq_length, dim)\n",
        "        return embeddings"
      ]
    },
    {
      "cell_type": "code",
      "execution_count": null,
      "metadata": {
        "id": "Pe5G921X14d5"
      },
      "outputs": [],
      "source": [
        "# Transformer encoder\n",
        "\n",
        "class EncoderLayer(nn.Module):\n",
        "    def __init__(self, d_model, num_heads, conv_hidden_dim, dropout=0.1):\n",
        "        super().__init__()\n",
        "        \n",
        "        self.dropout = dropout\n",
        "        self.mha = MultiHeadAttention(d_model, num_heads, dropout=dropout)\n",
        "        self.cnn = CNN(d_model, conv_hidden_dim)\n",
        "\n",
        "        self.layernorm1 = nn.LayerNorm(normalized_shape=d_model, eps=1e-6)\n",
        "        self.layernorm2 = nn.LayerNorm(normalized_shape=d_model, eps=1e-6)\n",
        "    \n",
        "    def forward(self, x):\n",
        "        \n",
        "        # Multi-head attention \n",
        "        attn_output, _ = self.mha(x, x, x)  # (batch_size, input_seq_len, d_model)\n",
        "        \n",
        "        # Layer norm after adding the residual connection \n",
        "        out1 = self.layernorm1(x + attn_output)  # (batch_size, input_seq_len, d_model)\n",
        "        \n",
        "        # Feed forward \n",
        "        cnn_output = self.cnn(out1)  # (batch_size, input_seq_len, d_model)\n",
        "        \n",
        "        # Second layer norm after adding residual connection \n",
        "        out2 = self.layernorm2(out1 + cnn_output)  # (batch_size, input_seq_len, d_model)\n",
        "\n",
        "        return out2\n",
        "\n",
        "class TransformerEncoder(nn.Module):\n",
        "    def __init__(self, num_layers, d_model, num_heads, ff_hidden_dim, input_vocab_size,\n",
        "               maximum_position_encoding, dropout=0.1):\n",
        "        super().__init__()\n",
        "\n",
        "        self.d_model = d_model\n",
        "        self.num_layers = num_layers\n",
        "        self.dropout = dropout\n",
        "\n",
        "        self.embedding = Embeddings(d_model, input_vocab_size,maximum_position_encoding, dropout)\n",
        "\n",
        "        self.enc_layers = nn.ModuleList()\n",
        "        for _ in range(num_layers):\n",
        "            self.enc_layers.append(EncoderLayer(d_model, num_heads, ff_hidden_dim, self.dropout))\n",
        "        \n",
        "    def forward(self, x):\n",
        "        x = self.embedding(x) # Transform to (batch_size, input_seq_length, d_model)\n",
        "\n",
        "        for i in range(self.num_layers):\n",
        "            x = self.enc_layers[i](x)\n",
        "\n",
        "        return x  # (batch_size, input_seq_len, d_model)"
      ]
    },
    {
      "cell_type": "code",
      "execution_count": null,
      "metadata": {
        "id": "LWOZR7oZ14d6"
      },
      "outputs": [],
      "source": [
        "# Transormer classifier for sentiment analysis\n",
        "class TransformerClassifier(nn.Module):\n",
        "    def __init__(self, num_layers, d_model, num_heads, conv_hidden_dim, input_vocab_size, num_answers):\n",
        "        super().__init__()\n",
        "        \n",
        "        self.encoder = TransformerEncoder(num_layers, d_model, num_heads, conv_hidden_dim, input_vocab_size,\n",
        "                                          maximum_position_encoding=10000)\n",
        "        self.dense = nn.Linear(d_model, num_answers)\n",
        "\n",
        "    def forward(self, x):\n",
        "        x = self.encoder(x)\n",
        "        x, _ = torch.max(x, dim=1)\n",
        "        x = self.dense(x)\n",
        "        return x"
      ]
    },
    {
      "cell_type": "code",
      "execution_count": null,
      "metadata": {
        "id": "zjh8L8vy14d7",
        "outputId": "f228c595-7dfd-4a73-83fe-f38668e2cc3f"
      },
      "outputs": [
        {
          "data": {
            "text/plain": [
              "TransformerClassifier(\n",
              "  (encoder): TransformerEncoder(\n",
              "    (embedding): Embeddings(\n",
              "      (word_embeddings): Embedding(50002, 32, padding_idx=1)\n",
              "      (position_embeddings): PositionalEncoding(\n",
              "        (dropout): Dropout(p=0.1, inplace=False)\n",
              "      )\n",
              "      (LayerNorm): LayerNorm((32,), eps=1e-12, elementwise_affine=True)\n",
              "    )\n",
              "    (enc_layers): ModuleList(\n",
              "      (0): EncoderLayer(\n",
              "        (mha): MultiHeadAttention(\n",
              "          (W_q): Linear(in_features=32, out_features=32, bias=False)\n",
              "          (W_k): Linear(in_features=32, out_features=32, bias=False)\n",
              "          (W_v): Linear(in_features=32, out_features=32, bias=False)\n",
              "          (W_h): Linear(in_features=32, out_features=32, bias=True)\n",
              "          (dropout): Dropout(p=0.1, inplace=False)\n",
              "        )\n",
              "        (cnn): CNN(\n",
              "          (k1convL1): Linear(in_features=32, out_features=128, bias=True)\n",
              "          (k1convL2): Linear(in_features=128, out_features=32, bias=True)\n",
              "          (activation): ReLU()\n",
              "        )\n",
              "        (layernorm1): LayerNorm((32,), eps=1e-06, elementwise_affine=True)\n",
              "        (layernorm2): LayerNorm((32,), eps=1e-06, elementwise_affine=True)\n",
              "      )\n",
              "    )\n",
              "  )\n",
              "  (dense): Linear(in_features=32, out_features=2, bias=True)\n",
              ")"
            ]
          },
          "execution_count": 49,
          "metadata": {},
          "output_type": "execute_result"
        }
      ],
      "source": [
        "device = torch.device(\"cuda:0\" if torch.cuda.is_available() else \"cpu\")\n",
        "model = TransformerClassifier(num_layers=1, d_model=32, num_heads=2, \n",
        "                         conv_hidden_dim=128, input_vocab_size=50002, num_answers=2)\n",
        "model.to(device)"
      ]
    },
    {
      "cell_type": "code",
      "execution_count": null,
      "metadata": {
        "id": "Qn9sVGAh14d9"
      },
      "outputs": [],
      "source": [
        "batch_size = 128\n",
        "train_loader, valid_loader, test_loader = data.BucketIterator.splits(\n",
        "    (ds_train, ds_valid, ds_test), batch_size=batch_size, sort_key=lambda x: len(x.text), repeat=False)\n",
        "optimizer = torch.optim.AdamW(model.parameters(), lr=0.001)\n",
        "epochs = 10\n",
        "t_total = len(train_loader) * epochs"
      ]
    },
    {
      "cell_type": "code",
      "execution_count": null,
      "metadata": {
        "id": "_Ln5PQa414d9"
      },
      "outputs": [],
      "source": [
        "def evaluate(data_loader):\n",
        "    data_iterator = iter(data_loader)\n",
        "    nb_batches = len(data_loader)\n",
        "    model.eval()\n",
        "    acc = 0 \n",
        "    for batch in data_iterator:\n",
        "        x = batch.text.to(device)\n",
        "        y = batch.label.to(device)\n",
        "                \n",
        "        out = model(x)\n",
        "        acc += (out.argmax(1) == y).cpu().numpy().mean()\n",
        "\n",
        "    print(f\"eval accuracy: {acc / nb_batches}\")\n",
        "    \n",
        "    \n",
        "\n",
        "def train(train_loader, valid_loader):\n",
        "    for epoch in range(epochs):\n",
        "        train_iterator, valid_iterator = iter(train_loader), iter(valid_loader)\n",
        "        nb_batches_train = len(train_loader)\n",
        "        train_acc = 0\n",
        "        model.train()\n",
        "        losses = 0.0\n",
        "\n",
        "        for batch in train_iterator:\n",
        "            x = batch.text.to(device)\n",
        "            y = batch.label.to(device)\n",
        "            \n",
        "            out = model(x)\n",
        "\n",
        "            loss = f.cross_entropy(out, y)\n",
        "            \n",
        "            model.zero_grad()\n",
        "\n",
        "            loss.backward()\n",
        "            losses += loss.item()\n",
        "\n",
        "            optimizer.step()\n",
        "                        \n",
        "            train_acc += (out.argmax(1) == y).cpu().numpy().mean()\n",
        "        \n",
        "        print(f\"epoch {epoch}: train loss: {losses / nb_batches_train}\")\n",
        "        print(f\"training accuracy: {train_acc / nb_batches_train}\")\n",
        "        print('evaluating on validation:')\n",
        "        evaluate(valid_loader)"
      ]
    },
    {
      "cell_type": "code",
      "execution_count": null,
      "metadata": {
        "id": "goOlrQ-_14d-",
        "outputId": "e02cfa8b-dc09-4e96-cbbd-dd095ace015f"
      },
      "outputs": [
        {
          "name": "stdout",
          "output_type": "stream",
          "text": [
            "Training loss at epoch 0 is 0.6815725849433378\n",
            "Training accuracy: 0.5615980113636364\n",
            "Evaluating on validation:\n",
            "Eval accuracy: 0.6268382352941176\n",
            "Training loss at epoch 1 is 0.6165380603210493\n",
            "Training accuracy: 0.6621182528409091\n",
            "Evaluating on validation:\n",
            "Eval accuracy: 0.6940716911764706\n",
            "Training loss at epoch 2 is 0.5264402922581543\n",
            "Training accuracy: 0.7381285511363636\n",
            "Evaluating on validation:\n",
            "Eval accuracy: 0.7510110294117647\n",
            "Training loss at epoch 3 is 0.45109065588225017\n",
            "Training accuracy: 0.7883558238636365\n",
            "Evaluating on validation:\n",
            "Eval accuracy: 0.7962316176470587\n",
            "Training loss at epoch 4 is 0.39714851535179396\n",
            "Training accuracy: 0.8223277698863637\n",
            "Evaluating on validation:\n",
            "Eval accuracy: 0.7951056985294118\n",
            "Training loss at epoch 5 is 0.34971896719864826\n",
            "Training accuracy: 0.8463831676136363\n",
            "Evaluating on validation:\n",
            "Eval accuracy: 0.8150735294117647\n",
            "Training loss at epoch 6 is 0.3135388213294474\n",
            "Training accuracy: 0.8648650568181818\n",
            "Evaluating on validation:\n",
            "Eval accuracy: 0.8344669117647058\n",
            "Training loss at epoch 7 is 0.2782035952603275\n",
            "Training accuracy: 0.8855930397727273\n",
            "Evaluating on validation:\n",
            "Eval accuracy: 0.8379365808823529\n",
            "Training loss at epoch 8 is 0.25173457576469943\n",
            "Training accuracy: 0.8959215198863636\n",
            "Evaluating on validation:\n",
            "Eval accuracy: 0.840234375\n",
            "Training loss at epoch 9 is 0.2241046568378806\n",
            "Training accuracy: 0.9111612215909091\n",
            "Evaluating on validation:\n",
            "Eval accuracy: 0.84140625\n"
          ]
        }
      ],
      "source": [
        "train(train_loader, valid_loader)"
      ]
    },
    {
      "cell_type": "code",
      "execution_count": null,
      "metadata": {
        "id": "Vu63x2LX14d_",
        "outputId": "75639381-22d9-45b0-87c5-fc8493a8ad1b"
      },
      "outputs": [
        {
          "name": "stdout",
          "output_type": "stream",
          "text": [
            "Eval accuracy: 0.8221699617346938\n"
          ]
        }
      ],
      "source": [
        "evaluate(test_loader)"
      ]
    },
    {
      "cell_type": "markdown",
      "metadata": {
        "id": "zXuHX1bw14eA"
      },
      "source": [
        "#### Transformer's Decoder Module\n",
        "---\n",
        "<img src=\"https://github.com/ynahum/ee046211-deep-learning/blob/main/assets/transformer_dec.png?raw=1\" style=\"height:300px\">"
      ]
    },
    {
      "cell_type": "markdown",
      "metadata": {
        "id": "K1nGxHJO14eA"
      },
      "source": [
        "* The Transformer decoder block looks similar to the Transformer encoder block. \n",
        "* However, besides the two sub-layers (the multi-head attention layer and the positional encoding network), the decoder Transformer block contains a third sub-layer, which applies multi-head attention on the output of the encoder stack.\n",
        "* **Cross-attention**: The cross attention follows the query, key, and value setup used for the self-attention blocks. However, the inputs are a little more complicated. \n",
        "    * The input to the decoder is a data point $y_i$, which is then passed through the self attention and add norm blocks, and finally ends up at the cross-attention block. \n",
        "    * This serves as the query for cross-attention, where the key and value pairs are the output $h^{Enc}$, where this output was calculated with all past inputs $x_1, ..., x_t$.\n",
        "* During training, the output for the $t$-query could observe all the previous key-value pairs. \n",
        "* It results in an different behavior from prediction. Thus, during *prediction* we can eliminate the unnecessary information by specifying the valid length to be $t$ for the $t^{th}$ query."
      ]
    },
    {
      "cell_type": "markdown",
      "metadata": {
        "id": "cM8EOGc914eB"
      },
      "source": [
        "### <img src=\"https://img.icons8.com/cotton/64/000000/torch.png\" style=\"height:50px;display:inline\"> Native Transformer in PyTorch\n",
        "---\n",
        "* Transformer is implmented natively in PyTorch: `torch.nn.Transformer(d_model: int = 512, nhead: int = 8, num_encoder_layers: int = 6, num_decoder_layers: int = 6, dim_feedforward: int = 2048, dropout: float = 0.1, activation: str = 'relu')`\n",
        "* <a href=\"https://pytorch.org/docs/stable/generated/torch.nn.Transformer.html\">Documentation</a>\n",
        "* <a href=\"https://github.com/pytorch/examples/blob/master/word_language_model/main.py\">Code example usage</a>"
      ]
    },
    {
      "cell_type": "markdown",
      "metadata": {
        "id": "GZ1YCwA214eB"
      },
      "source": [
        "### <img src=\"https://img.icons8.com/plasticine/100/000000/teacher.png\" style=\"height:50px;display:inline\"> Teacher Forcing\n",
        "---\n",
        "* Teacher forcing is a strategy for training recurrent neural networks that uses model output from a prior time step as an input.\n",
        "* Teacher forcing works by using the actual or expected output from the training dataset at the current time step $y_t$ as input in the next time step $X_{t+1}$, rather than the output generated by the network.\n",
        "* This startegy allows for faster training, especially in RNNs."
      ]
    },
    {
      "cell_type": "markdown",
      "metadata": {
        "id": "U6OcBcZr14eC"
      },
      "source": [
        "## <img src=\"https://img.icons8.com/emoji/96/000000/woman-lifting-weights.png\" style=\"height:50px;display:inline\"> Pretrained Models - BERT and GPT\n",
        "---\n",
        "* Large-scale pretrained models have gained popularity over the past years, as big companies can train very large models, which are then published for the public to use as-is or to use with fine-tuning for the users' custom datasets.\n",
        "* **Bidirectional Encoder Representations from Transformers (BERT), Google** - a Transformer-based machine learning technique for natural language processing (NLP) pre-training developed by Google. The idea is to mask certain words and then try to predict them. The original English-language BERT model comes with two pre-trained general types:\n",
        "    * (1) the $BERT_{BASE}$ model, a 12-layer, 768-hidden, 12-heads, 110M parameter neural network architecture.\n",
        "    * (2) the $BERT_{LARGE}$ model, a 24-layer, 1024-hidden, 16-heads, 340M parameter neural network architecture. \n",
        "    * Both of which were trained on the BooksCorpus dataset with 800M words, and a version of the English Wikipedia with 2,500M words.\n",
        "    * Extensions: RoBERTa (Facebook), DistillBERT (HuggingFace)\n",
        "* **Generative Pre-trained Transformer (GPT), OpenAI** - an autoregressive language model that uses deep learning to produce human-like text. GPT was trained with a causal language modeling (CLM) objective and is therefore powerful at predicting the next token in a sequence. The proposed method utilizes generative pre-training of a language model on a diverse corpus of unlabeled text, followed by discriminative fine-tuning on each specific task. Unlike BERT, GPT is a generative model, while BERT is an effective pretrained model for embeddings of words/sentences.\n",
        "    * GPT Demo - <a href=\"https://transformer.huggingface.co/doc/gpt\">Write With Transformer</a>\n",
        "* HuggingFace is a copmpany that is dedicated to publishing all of the available pretrained models and it works in PyTorch as well - <a href=\"https://github.com/huggingface/transformers\">HuggingFace Transformers</a>\n",
        "* <a href=\"https://pytorch.org/hub/huggingface_pytorch-transformers/\">Examples with PyTorch</a>"
      ]
    },
    {
      "cell_type": "markdown",
      "metadata": {
        "id": "uo7Uccu214eC"
      },
      "source": [
        "### <img src=\"https://img.icons8.com/bubbles/50/000000/video-playlist.png\" style=\"height:50px;display:inline\"> Recommended Videos\n",
        "---\n",
        "#### <img src=\"https://img.icons8.com/cute-clipart/64/000000/warning-shield.png\" style=\"height:30px;display:inline\"> Warning!\n",
        "* These videos do not replace the lectures and tutorials.\n",
        "* Please use these to get a better understanding of the material, and not as an alternative to the written material.\n",
        "\n",
        "#### Video By Subject\n",
        "\n",
        "* Deep Learning for Natural Language Processing (NLP) -  <a href=\"https://youtu.be/6D4EWKJgNn0\"> Deep Learning for Natural Language Processing (NLP) </a>\n",
        "    * Attention and the Transformer <a href=\"https://www.youtube.com/watch?v=f01J0Dri-6k&feature=youtu.be\">Practicum: Attention and the Transformer</a>\n",
        "\n",
        "* Recurrent Neural Networks - <a href=\"https://www.youtube.com/watch?v=SEnXr6v2ifU\"> Recurrent Neural Networks | MIT 6.S191 </a>\n",
        "\n",
        "* LSTM & GRU - <a href=\"https://www.youtube.com/watch?v=8HyCNIVRbSU\"> Illustrated Guide to LSTM's and GRU's: A step by step explanation </a>\n",
        "\n",
        "* Transformers - <a href=\"https://www.youtube.com/watch?v=S27pHKBEp30\">LSTM is dead. Long Live Transformers! </a>\n",
        "* BERT - <a href=\"https://www.youtube.com/watch?v=OR0wfP2FD3c\">BERT Explained!</a>\n",
        "* GPT - <a href=\"https://www.youtube.com/watch?v=9ebPNEHRwXU\">GPT Explained!</a>\n",
        "    * GPT-3 - <a href=\"https://www.youtube.com/watch?v=_x9AwxfjxvE\">OpenAI GPT-3 - Good At Almost Everything!</a>"
      ]
    },
    {
      "cell_type": "markdown",
      "metadata": {
        "id": "RsKJd4Ma14eD"
      },
      "source": [
        "## <img src=\"https://img.icons8.com/dusk/64/000000/prize.png\" style=\"height:50px;display:inline\"> Credits\n",
        "---\n",
        "* Icons made by <a href=\"https://www.flaticon.com/authors/becris\" title=\"Becris\">Becris</a> from <a href=\"https://www.flaticon.com/\" title=\"Flaticon\">www.flaticon.com</a>\n",
        "* Icons from <a href=\"https://icons8.com/\">Icons8.com</a> - https://icons8.com\n",
        "* <a href=\"https://d2l.ai/chapter_recurrent-neural-networks/index.html\">Dive Into Deep Learning - Recurrent Neural Networks</a>\n",
        "* <a href=\"https://atcold.github.io/pytorch-Deep-Learning/en/week12/12-1/\">DS-GA 1008 - NYU CENTER FOR DATA SCIENCE - Deep Sequence Modeling</a>"
      ]
    }
  ],
  "metadata": {
    "kernelspec": {
      "display_name": "Python 3",
      "language": "python",
      "name": "python3"
    },
    "language_info": {
      "codemirror_mode": {
        "name": "ipython",
        "version": 3
      },
      "file_extension": ".py",
      "mimetype": "text/x-python",
      "name": "python",
      "nbconvert_exporter": "python",
      "pygments_lexer": "ipython3",
      "version": "3.6.9"
    },
    "colab": {
      "name": "ee046211_tutorial_07_sequential_tasks_rnn.ipynb",
      "provenance": []
    }
  },
  "nbformat": 4,
  "nbformat_minor": 0
}